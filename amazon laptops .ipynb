{
 "cells": [
  {
   "cell_type": "code",
   "execution_count": 1,
   "metadata": {},
   "outputs": [
    {
     "name": "stdout",
     "output_type": "stream",
     "text": [
      "Collecting selenium"
     ]
    },
    {
     "name": "stderr",
     "output_type": "stream",
     "text": [
      "WARNING: Retrying (Retry(total=4, connect=None, read=None, redirect=None, status=None)) after connection broken by 'NewConnectionError('<pip._vendor.urllib3.connection.HTTPSConnection object at 0x04B2EAF0>: Failed to establish a new connection: [Errno 11001] getaddrinfo failed')': /simple/selenium/\n",
      "WARNING: Retrying (Retry(total=3, connect=None, read=None, redirect=None, status=None)) after connection broken by 'NewConnectionError('<pip._vendor.urllib3.connection.HTTPSConnection object at 0x04B2E868>: Failed to establish a new connection: [Errno 11001] getaddrinfo failed')': /simple/selenium/\n",
      "WARNING: Retrying (Retry(total=2, connect=None, read=None, redirect=None, status=None)) after connection broken by 'NewConnectionError('<pip._vendor.urllib3.connection.HTTPSConnection object at 0x04B2E8F8>: Failed to establish a new connection: [Errno 11001] getaddrinfo failed')': /simple/selenium/\n",
      "WARNING: Retrying (Retry(total=1, connect=None, read=None, redirect=None, status=None)) after connection broken by 'NewConnectionError('<pip._vendor.urllib3.connection.HTTPSConnection object at 0x04B2E7D8>: Failed to establish a new connection: [Errno 11001] getaddrinfo failed')': /simple/selenium/\n"
     ]
    },
    {
     "name": "stdout",
     "output_type": "stream",
     "text": [
      "\n",
      "  Downloading selenium-3.141.0-py2.py3-none-any.whl (904 kB)\n",
      "Requirement already satisfied: urllib3 in g:\\annaconda\\lib\\site-packages (from selenium) (1.25.11)\n",
      "Installing collected packages: selenium\n",
      "Successfully installed selenium-3.141.0\n"
     ]
    }
   ],
   "source": [
    "!pip install selenium"
   ]
  },
  {
   "cell_type": "code",
   "execution_count": 1,
   "metadata": {},
   "outputs": [],
   "source": [
    "from bs4 import BeautifulSoup\n",
    "import requests\n",
    "import time "
   ]
  },
  {
   "cell_type": "code",
   "execution_count": 2,
   "metadata": {},
   "outputs": [],
   "source": [
    "from selenium import webdriver\n",
    "import pandas as pd"
   ]
  },
  {
   "cell_type": "code",
   "execution_count": 13,
   "metadata": {},
   "outputs": [],
   "source": [
    "url=(\"https://www.amazon.in/s?k=laptops&i=computers&rh=n%3A1375424031%2Cp_n_feature_thirteen_browse-bin%3A12598163031%7C16757432031&dc&qid=1613581018&rnid=12598141031&ref=sr_nr_p_n_feature_thirteen_browse-bin_17\")"
   ]
  },
  {
   "cell_type": "code",
   "execution_count": 14,
   "metadata": {},
   "outputs": [],
   "source": [
    "driver = webdriver.Chrome('G:\\\\annaconda\\\\ankit\\\\chromedriver.exe')"
   ]
  },
  {
   "cell_type": "code",
   "execution_count": 15,
   "metadata": {},
   "outputs": [],
   "source": [
    "driver.get(url)"
   ]
  },
  {
   "cell_type": "code",
   "execution_count": 17,
   "metadata": {},
   "outputs": [],
   "source": [
    "soup=BeautifulSoup(driver.page_source,\"html.parser\")"
   ]
  },
  {
   "cell_type": "code",
   "execution_count": 32,
   "metadata": {},
   "outputs": [],
   "source": [
    "Brand=[]\n",
    "Price=[]\n",
    "Rating=[]\n",
    "for d in soup.findAll('div', attrs={'class':'a-section a-spacing-medium'}):\n",
    "        p=d.find('h2', attrs={'class':'a-size-mini a-spacing-none a-color-base s-line-clamp-2'})\n",
    "        Brand.append(p.text)\n",
    "        pr=d.find('span', attrs={'class':'a-price-whole'})\n",
    "        Price.append(pr)\n",
    "        ra=d.find('span', attrs={'class':'a-icon-alt'})\n",
    "        Rating.append(ra)\n",
    "        "
   ]
  },
  {
   "cell_type": "code",
   "execution_count": 33,
   "metadata": {},
   "outputs": [
    {
     "data": {
      "text/plain": [
       "'\\n\\n1-24 of 479 results for \"laptops\"\\n\\n'"
      ]
     },
     "execution_count": 33,
     "metadata": {},
     "output_type": "execute_result"
    }
   ],
   "source": [
    "soup.find('div', attrs={'class':'sg-col-inner'}).text"
   ]
  },
  {
   "cell_type": "code",
   "execution_count": 34,
   "metadata": {},
   "outputs": [
    {
     "data": {
      "text/plain": [
       "'\\n\\nLenovo Yoga S940 Intel Core i7 10th Gen 14\" UHD Ultra Thin and Light Laptop (16GB/1TB SSD/Windows10 Pro/MS Office/Iron Grey/1.2Kg), 81Q80037IN\\n\\n'"
      ]
     },
     "execution_count": 34,
     "metadata": {},
     "output_type": "execute_result"
    }
   ],
   "source": [
    "soup.find('h2', attrs={'class':'a-size-mini a-spacing-none a-color-base s-line-clamp-2'}).text"
   ]
  },
  {
   "cell_type": "code",
   "execution_count": null,
   "metadata": {},
   "outputs": [],
   "source": []
  },
  {
   "cell_type": "code",
   "execution_count": 35,
   "metadata": {},
   "outputs": [],
   "source": [
    "data=list(zip(Brand,Price,Rating))"
   ]
  },
  {
   "cell_type": "code",
   "execution_count": 36,
   "metadata": {},
   "outputs": [],
   "source": [
    "import pandas as pd\n",
    "df=pd.DataFrame(data,columns=[\"Brand\",\"Price\",\"Rating\"])\n"
   ]
  },
  {
   "cell_type": "code",
   "execution_count": 38,
   "metadata": {},
   "outputs": [
    {
     "data": {
      "text/html": [
       "<div>\n",
       "<style scoped>\n",
       "    .dataframe tbody tr th:only-of-type {\n",
       "        vertical-align: middle;\n",
       "    }\n",
       "\n",
       "    .dataframe tbody tr th {\n",
       "        vertical-align: top;\n",
       "    }\n",
       "\n",
       "    .dataframe thead th {\n",
       "        text-align: right;\n",
       "    }\n",
       "</style>\n",
       "<table border=\"1\" class=\"dataframe\">\n",
       "  <thead>\n",
       "    <tr style=\"text-align: right;\">\n",
       "      <th></th>\n",
       "      <th>Brand</th>\n",
       "      <th>Price</th>\n",
       "      <th>Rating</th>\n",
       "    </tr>\n",
       "  </thead>\n",
       "  <tbody>\n",
       "    <tr>\n",
       "      <th>0</th>\n",
       "      <td>\\n\\nLenovo Yoga S940 Intel Core i7 10th Gen 14...</td>\n",
       "      <td>[1,19,990]</td>\n",
       "      <td>[3.3 out of 5 stars]</td>\n",
       "    </tr>\n",
       "    <tr>\n",
       "      <th>1</th>\n",
       "      <td>\\n\\nMi Notebook Horizon Edition 14 Intel Core ...</td>\n",
       "      <td>[57,999]</td>\n",
       "      <td>[4.2 out of 5 stars]</td>\n",
       "    </tr>\n",
       "    <tr>\n",
       "      <th>2</th>\n",
       "      <td>\\n\\nASUS ROG G703GI-E5148T 17.3-inch FHD 144Hz...</td>\n",
       "      <td>[5,22,077]</td>\n",
       "      <td>[4.2 out of 5 stars]</td>\n",
       "    </tr>\n",
       "    <tr>\n",
       "      <th>3</th>\n",
       "      <td>\\n\\nHP Pavilion x360 Touchscreen 2-in-1 FHD 14...</td>\n",
       "      <td>[74,990]</td>\n",
       "      <td>[3.5 out of 5 stars]</td>\n",
       "    </tr>\n",
       "    <tr>\n",
       "      <th>4</th>\n",
       "      <td>\\n\\nLenovo IdeaPad Gaming 3i 10th Gen Intel Co...</td>\n",
       "      <td>[76,990]</td>\n",
       "      <td>[3.8 out of 5 stars]</td>\n",
       "    </tr>\n",
       "    <tr>\n",
       "      <th>5</th>\n",
       "      <td>\\n\\nHP Pavilion x360 Core i7 8th Gen 14-inch T...</td>\n",
       "      <td>[85,990]</td>\n",
       "      <td>[4.1 out of 5 stars]</td>\n",
       "    </tr>\n",
       "    <tr>\n",
       "      <th>6</th>\n",
       "      <td>\\n\\nHP 14 Thin &amp; Light 14-inch FHD Laptop (11t...</td>\n",
       "      <td>[75,482]</td>\n",
       "      <td>[4.0 out of 5 stars]</td>\n",
       "    </tr>\n",
       "    <tr>\n",
       "      <th>7</th>\n",
       "      <td>\\n\\nASUS ZenBook 14 (2020) Intel Core i7-1165G...</td>\n",
       "      <td>[95,290]</td>\n",
       "      <td>[4.3 out of 5 stars]</td>\n",
       "    </tr>\n",
       "    <tr>\n",
       "      <th>8</th>\n",
       "      <td>\\n\\nHP 14 10th Gen Intel Core i7 Ultra Thin an...</td>\n",
       "      <td>[72,970]</td>\n",
       "      <td>[3.4 out of 5 stars]</td>\n",
       "    </tr>\n",
       "    <tr>\n",
       "      <th>9</th>\n",
       "      <td>\\n\\nDell G3 3500 Gaming 15.6inch 120hz FHD Dis...</td>\n",
       "      <td>[82,490]</td>\n",
       "      <td>[4.0 out of 5 stars]</td>\n",
       "    </tr>\n",
       "  </tbody>\n",
       "</table>\n",
       "</div>"
      ],
      "text/plain": [
       "                                               Brand       Price  \\\n",
       "0  \\n\\nLenovo Yoga S940 Intel Core i7 10th Gen 14...  [1,19,990]   \n",
       "1  \\n\\nMi Notebook Horizon Edition 14 Intel Core ...    [57,999]   \n",
       "2  \\n\\nASUS ROG G703GI-E5148T 17.3-inch FHD 144Hz...  [5,22,077]   \n",
       "3  \\n\\nHP Pavilion x360 Touchscreen 2-in-1 FHD 14...    [74,990]   \n",
       "4  \\n\\nLenovo IdeaPad Gaming 3i 10th Gen Intel Co...    [76,990]   \n",
       "5  \\n\\nHP Pavilion x360 Core i7 8th Gen 14-inch T...    [85,990]   \n",
       "6  \\n\\nHP 14 Thin & Light 14-inch FHD Laptop (11t...    [75,482]   \n",
       "7  \\n\\nASUS ZenBook 14 (2020) Intel Core i7-1165G...    [95,290]   \n",
       "8  \\n\\nHP 14 10th Gen Intel Core i7 Ultra Thin an...    [72,970]   \n",
       "9  \\n\\nDell G3 3500 Gaming 15.6inch 120hz FHD Dis...    [82,490]   \n",
       "\n",
       "                 Rating  \n",
       "0  [3.3 out of 5 stars]  \n",
       "1  [4.2 out of 5 stars]  \n",
       "2  [4.2 out of 5 stars]  \n",
       "3  [3.5 out of 5 stars]  \n",
       "4  [3.8 out of 5 stars]  \n",
       "5  [4.1 out of 5 stars]  \n",
       "6  [4.0 out of 5 stars]  \n",
       "7  [4.3 out of 5 stars]  \n",
       "8  [3.4 out of 5 stars]  \n",
       "9  [4.0 out of 5 stars]  "
      ]
     },
     "execution_count": 38,
     "metadata": {},
     "output_type": "execute_result"
    }
   ],
   "source": [
    "df.head(10)"
   ]
  },
  {
   "cell_type": "code",
   "execution_count": null,
   "metadata": {},
   "outputs": [],
   "source": []
  }
 ],
 "metadata": {
  "kernelspec": {
   "display_name": "Python 3",
   "language": "python",
   "name": "python3"
  },
  "language_info": {
   "codemirror_mode": {
    "name": "ipython",
    "version": 3
   },
   "file_extension": ".py",
   "mimetype": "text/x-python",
   "name": "python",
   "nbconvert_exporter": "python",
   "pygments_lexer": "ipython3",
   "version": "3.8.5"
  }
 },
 "nbformat": 4,
 "nbformat_minor": 4
}
