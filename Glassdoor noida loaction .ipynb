{
 "cells": [
  {
   "cell_type": "code",
   "execution_count": 48,
   "metadata": {},
   "outputs": [],
   "source": [
    "from bs4 import BeautifulSoup\n",
    "import requests\n",
    "import time "
   ]
  },
  {
   "cell_type": "code",
   "execution_count": 49,
   "metadata": {},
   "outputs": [],
   "source": [
    "from selenium import webdriver\n",
    "import pandas as pd"
   ]
  },
  {
   "cell_type": "code",
   "execution_count": 50,
   "metadata": {},
   "outputs": [],
   "source": [
    "url=(\"https://www.glassdoor.co.in/Salaries/new-delhi-data-scientist-salary-SRCH_IL.0,9_IM1083_KO10,24.htm?clickSource=searchBtn\")"
   ]
  },
  {
   "cell_type": "code",
   "execution_count": 51,
   "metadata": {},
   "outputs": [],
   "source": [
    "driver = webdriver.Chrome('G:\\\\annaconda\\\\ankit\\\\chromedriver.exe')"
   ]
  },
  {
   "cell_type": "code",
   "execution_count": 52,
   "metadata": {},
   "outputs": [],
   "source": [
    "driver.get(url)"
   ]
  },
  {
   "cell_type": "code",
   "execution_count": 53,
   "metadata": {},
   "outputs": [],
   "source": [
    "soup=BeautifulSoup(driver.page_source,\"html.parser\")"
   ]
  },
  {
   "cell_type": "code",
   "execution_count": 54,
   "metadata": {},
   "outputs": [],
   "source": [
    "job=[]\n",
    "Company=[]\n",
    "Discription=[]\n",
    "for d in soup.findAll('div', attrs={'class':'row no-gutters mx-0 py align-items-center css-1u4lhyp'}):\n",
    "        p=d.find('p', attrs={'class':'m-0 '})\n",
    "        job.append(p)\n",
    "        pr=d.find('div', attrs={'class':'col-2 d-none d-md-flex flex-row justify-content-end'})\n",
    "        Company.append(pr.text)\n",
    "        ra=d.find('p', attrs={'class':'d-block d-md-none m-0 css-1kuy7z7'}).text\n",
    "        Discription.append(ra)\n",
    "       \n",
    "                      "
   ]
  },
  {
   "cell_type": "code",
   "execution_count": 55,
   "metadata": {},
   "outputs": [
    {
     "data": {
      "text/plain": [
       "[]"
      ]
     },
     "execution_count": 55,
     "metadata": {},
     "output_type": "execute_result"
    }
   ],
   "source": [
    "soup.find_all('p', attrs={'class':'m-0 '})"
   ]
  },
  {
   "cell_type": "code",
   "execution_count": 56,
   "metadata": {},
   "outputs": [],
   "source": [
    "data=list(zip(job,Company,Discription))"
   ]
  },
  {
   "cell_type": "code",
   "execution_count": 57,
   "metadata": {},
   "outputs": [],
   "source": [
    "import pandas as pd\n",
    "df=pd.DataFrame(data,columns=[\"Jobs\",\"Company\",\"Discription\"])\n"
   ]
  },
  {
   "cell_type": "code",
   "execution_count": 58,
   "metadata": {},
   "outputs": [
    {
     "data": {
      "text/html": [
       "<div>\n",
       "<style scoped>\n",
       "    .dataframe tbody tr th:only-of-type {\n",
       "        vertical-align: middle;\n",
       "    }\n",
       "\n",
       "    .dataframe tbody tr th {\n",
       "        vertical-align: top;\n",
       "    }\n",
       "\n",
       "    .dataframe thead th {\n",
       "        text-align: right;\n",
       "    }\n",
       "</style>\n",
       "<table border=\"1\" class=\"dataframe\">\n",
       "  <thead>\n",
       "    <tr style=\"text-align: right;\">\n",
       "      <th></th>\n",
       "      <th>Jobs</th>\n",
       "      <th>Company</th>\n",
       "      <th>Discription</th>\n",
       "    </tr>\n",
       "  </thead>\n",
       "  <tbody>\n",
       "    <tr>\n",
       "      <th>0</th>\n",
       "      <td>None</td>\n",
       "      <td>₹ 12,64,182/yr</td>\n",
       "      <td>Range: ₹450K - ₹11,630K</td>\n",
       "    </tr>\n",
       "    <tr>\n",
       "      <th>1</th>\n",
       "      <td>None</td>\n",
       "      <td>₹ 7,30,968/yr</td>\n",
       "      <td>Range: ₹350K - ₹1,614K</td>\n",
       "    </tr>\n",
       "    <tr>\n",
       "      <th>2</th>\n",
       "      <td>None</td>\n",
       "      <td>₹ 6,00,000/yr</td>\n",
       "      <td>Range: ₹336K - ₹1,010K</td>\n",
       "    </tr>\n",
       "    <tr>\n",
       "      <th>3</th>\n",
       "      <td>None</td>\n",
       "      <td>₹ 9,94,055/yr</td>\n",
       "      <td>Range: ₹577K - ₹2,215K</td>\n",
       "    </tr>\n",
       "    <tr>\n",
       "      <th>4</th>\n",
       "      <td>None</td>\n",
       "      <td>₹ 7,39,040/yr</td>\n",
       "      <td>Range: ₹587K - ₹2,732K</td>\n",
       "    </tr>\n",
       "    <tr>\n",
       "      <th>5</th>\n",
       "      <td>None</td>\n",
       "      <td>₹ 13,37,114/yr</td>\n",
       "      <td>Range: ₹717K - ₹1,575K</td>\n",
       "    </tr>\n",
       "    <tr>\n",
       "      <th>6</th>\n",
       "      <td>None</td>\n",
       "      <td>₹ 7,80,374/yr</td>\n",
       "      <td>Range: ₹502K - ₹1,152K</td>\n",
       "    </tr>\n",
       "    <tr>\n",
       "      <th>7</th>\n",
       "      <td>None</td>\n",
       "      <td>₹ 11,98,792/yr</td>\n",
       "      <td>Range: ₹621K - ₹1,696K</td>\n",
       "    </tr>\n",
       "    <tr>\n",
       "      <th>8</th>\n",
       "      <td>None</td>\n",
       "      <td>₹ 10,08,143/yr</td>\n",
       "      <td>Range: ₹793K - ₹1,264K</td>\n",
       "    </tr>\n",
       "    <tr>\n",
       "      <th>9</th>\n",
       "      <td>None</td>\n",
       "      <td>₹ 11,34,989/yr</td>\n",
       "      <td>Range: ₹576K - ₹1,500K</td>\n",
       "    </tr>\n",
       "  </tbody>\n",
       "</table>\n",
       "</div>"
      ],
      "text/plain": [
       "   Jobs         Company              Discription\n",
       "0  None  ₹ 12,64,182/yr  Range: ₹450K - ₹11,630K\n",
       "1  None   ₹ 7,30,968/yr   Range: ₹350K - ₹1,614K\n",
       "2  None   ₹ 6,00,000/yr   Range: ₹336K - ₹1,010K\n",
       "3  None   ₹ 9,94,055/yr   Range: ₹577K - ₹2,215K\n",
       "4  None   ₹ 7,39,040/yr   Range: ₹587K - ₹2,732K\n",
       "5  None  ₹ 13,37,114/yr   Range: ₹717K - ₹1,575K\n",
       "6  None   ₹ 7,80,374/yr   Range: ₹502K - ₹1,152K\n",
       "7  None  ₹ 11,98,792/yr   Range: ₹621K - ₹1,696K\n",
       "8  None  ₹ 10,08,143/yr   Range: ₹793K - ₹1,264K\n",
       "9  None  ₹ 11,34,989/yr   Range: ₹576K - ₹1,500K"
      ]
     },
     "execution_count": 58,
     "metadata": {},
     "output_type": "execute_result"
    }
   ],
   "source": [
    "df.head(10)"
   ]
  },
  {
   "cell_type": "code",
   "execution_count": null,
   "metadata": {},
   "outputs": [],
   "source": []
  }
 ],
 "metadata": {
  "kernelspec": {
   "display_name": "Python 3",
   "language": "python",
   "name": "python3"
  },
  "language_info": {
   "codemirror_mode": {
    "name": "ipython",
    "version": 3
   },
   "file_extension": ".py",
   "mimetype": "text/x-python",
   "name": "python",
   "nbconvert_exporter": "python",
   "pygments_lexer": "ipython3",
   "version": "3.8.5"
  }
 },
 "nbformat": 4,
 "nbformat_minor": 4
}
