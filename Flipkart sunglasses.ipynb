{
 "cells": [
  {
   "cell_type": "code",
   "execution_count": 1,
   "metadata": {},
   "outputs": [],
   "source": [
    "from bs4 import BeautifulSoup\n",
    "import requests\n",
    "\n",
    "amazon_text=(\"https://www.flipkart.com/search?q=sunglasses&sid=26x&as=on&as-show=on&otracker=AS_QueryStore_OrganicAutoSuggest_1_4_na_na_na&otracker1=AS_QueryStore_OrganicAutoSuggest_1_4_na_na_na&as-pos=1&as-type=RECENT&suggestionId=sunglasses%7CSunglasses&requestId=671e01a1-7fd8-4908-ac71-594d0f990ea6&as-backfill=on&page=\")\n"
   ]
  },
  {
   "cell_type": "code",
   "execution_count": 2,
   "metadata": {},
   "outputs": [],
   "source": [
    "Brand=[]\n",
    "Description=[]\n",
    "Price=[]\n",
    "Discount=[]\n",
    "for page in range(1,10):\n",
    "    page=1\n",
    "    req=requests.get(amazon_text+str(page))\n",
    "    soup=BeautifulSoup(req.text,\"lxml\")\n",
    "    for d in soup.findAll('div', attrs={'class':'_2B099V'}):\n",
    "        p=d.find('div', attrs={'class':'_2WkVRV'})\n",
    "        Brand.append(p)\n",
    "        pr=d.find('a', attrs={'class':'IRpwTa'})\n",
    "        Description.append(pr)\n",
    "        ra=d.find('div', attrs={'class':'_30jeq3'})\n",
    "        Price.append(ra)\n",
    "        sr=d.find('div', attrs={'class':'_3Ay6Sb'})\n",
    "        Discount.append(sr)\n",
    "                      \n",
    "                      "
   ]
  },
  {
   "cell_type": "code",
   "execution_count": 3,
   "metadata": {},
   "outputs": [],
   "source": [
    "#soup.find_all('div', attrs={'class':'_1xHGtK _373qXS'})"
   ]
  },
  {
   "cell_type": "code",
   "execution_count": 4,
   "metadata": {},
   "outputs": [],
   "source": [
    "#soup.find(\"div\",attrs={\"class\":\"_2B099V\"})\n"
   ]
  },
  {
   "cell_type": "code",
   "execution_count": 5,
   "metadata": {},
   "outputs": [],
   "source": [
    "\n",
    "\n",
    "#soup.find_all(\"div\",attrs={\"class\":\"_2WkVRV\"})"
   ]
  },
  {
   "cell_type": "code",
   "execution_count": 6,
   "metadata": {},
   "outputs": [],
   "source": [
    "#soup.find_all(\"div\",attrs={\"class\":\"_3Ay6Sb\"})"
   ]
  },
  {
   "cell_type": "code",
   "execution_count": 7,
   "metadata": {},
   "outputs": [],
   "source": [
    "#soup.find_all(\"div\",attrs={\"class\":\"_30jeq3\"})"
   ]
  },
  {
   "cell_type": "code",
   "execution_count": 8,
   "metadata": {},
   "outputs": [],
   "source": [
    "data=list(zip(Brand,Description,Price,Discount))"
   ]
  },
  {
   "cell_type": "code",
   "execution_count": 9,
   "metadata": {},
   "outputs": [],
   "source": [
    "import pandas as pd\n",
    "df=pd.DataFrame(data,columns=[\"Brand\",\"Discription\",\"Price\",\"Discount\"])\n"
   ]
  },
  {
   "cell_type": "code",
   "execution_count": 10,
   "metadata": {},
   "outputs": [
    {
     "data": {
      "text/html": [
       "<div>\n",
       "<style scoped>\n",
       "    .dataframe tbody tr th:only-of-type {\n",
       "        vertical-align: middle;\n",
       "    }\n",
       "\n",
       "    .dataframe tbody tr th {\n",
       "        vertical-align: top;\n",
       "    }\n",
       "\n",
       "    .dataframe thead th {\n",
       "        text-align: right;\n",
       "    }\n",
       "</style>\n",
       "<table border=\"1\" class=\"dataframe\">\n",
       "  <thead>\n",
       "    <tr style=\"text-align: right;\">\n",
       "      <th></th>\n",
       "      <th>Brand</th>\n",
       "      <th>Discription</th>\n",
       "      <th>Price</th>\n",
       "      <th>Discount</th>\n",
       "    </tr>\n",
       "  </thead>\n",
       "  <tbody>\n",
       "    <tr>\n",
       "      <th>0</th>\n",
       "      <td>[kingsunglasses]</td>\n",
       "      <td>[UV Protection, Mirrored Round Sunglasses (54)]</td>\n",
       "      <td>[₹197]</td>\n",
       "      <td>[[83% off]]</td>\n",
       "    </tr>\n",
       "    <tr>\n",
       "      <th>1</th>\n",
       "      <td>[kingsunglasses]</td>\n",
       "      <td>[Mirrored, UV Protection Wayfarer, Wayfarer, W...</td>\n",
       "      <td>[₹284]</td>\n",
       "      <td>[[81% off]]</td>\n",
       "    </tr>\n",
       "    <tr>\n",
       "      <th>2</th>\n",
       "      <td>[Fastrack]</td>\n",
       "      <td>[Gradient, UV Protection Wayfarer Sunglasses (...</td>\n",
       "      <td>[₹499]</td>\n",
       "      <td>[[37% off]]</td>\n",
       "    </tr>\n",
       "    <tr>\n",
       "      <th>3</th>\n",
       "      <td>[Fastrack]</td>\n",
       "      <td>[UV Protection Wayfarer Sunglasses (56)]</td>\n",
       "      <td>[₹599]</td>\n",
       "      <td>[[33% off]]</td>\n",
       "    </tr>\n",
       "    <tr>\n",
       "      <th>4</th>\n",
       "      <td>[Fastrack]</td>\n",
       "      <td>[Mirrored, UV Protection Wayfarer Sunglasses (...</td>\n",
       "      <td>[₹549]</td>\n",
       "      <td>[[45% off]]</td>\n",
       "    </tr>\n",
       "    <tr>\n",
       "      <th>...</th>\n",
       "      <td>...</td>\n",
       "      <td>...</td>\n",
       "      <td>...</td>\n",
       "      <td>...</td>\n",
       "    </tr>\n",
       "    <tr>\n",
       "      <th>95</th>\n",
       "      <td>[Royal Son]</td>\n",
       "      <td>[UV Protection Wayfarer Sunglasses (55)]</td>\n",
       "      <td>[₹242]</td>\n",
       "      <td>[[81% off]]</td>\n",
       "    </tr>\n",
       "    <tr>\n",
       "      <th>96</th>\n",
       "      <td>[PIRASO]</td>\n",
       "      <td>[UV Protection Aviator Sunglasses (54)]</td>\n",
       "      <td>[₹225]</td>\n",
       "      <td>[[85% off]]</td>\n",
       "    </tr>\n",
       "    <tr>\n",
       "      <th>97</th>\n",
       "      <td>[PIRASO]</td>\n",
       "      <td>[UV Protection Aviator Sunglasses (54)]</td>\n",
       "      <td>[₹225]</td>\n",
       "      <td>[[85% off]]</td>\n",
       "    </tr>\n",
       "    <tr>\n",
       "      <th>98</th>\n",
       "      <td>[Gansta]</td>\n",
       "      <td>[UV Protection Aviator Sunglasses (57)]</td>\n",
       "      <td>[₹284]</td>\n",
       "      <td>[[85% off]]</td>\n",
       "    </tr>\n",
       "    <tr>\n",
       "      <th>99</th>\n",
       "      <td>[Aislin]</td>\n",
       "      <td>[UV Protection, Others Rectangular, Wrap-aroun...</td>\n",
       "      <td>[₹1,096]</td>\n",
       "      <td>[[70% off]]</td>\n",
       "    </tr>\n",
       "  </tbody>\n",
       "</table>\n",
       "<p>100 rows × 4 columns</p>\n",
       "</div>"
      ],
      "text/plain": [
       "               Brand                                        Discription  \\\n",
       "0   [kingsunglasses]    [UV Protection, Mirrored Round Sunglasses (54)]   \n",
       "1   [kingsunglasses]  [Mirrored, UV Protection Wayfarer, Wayfarer, W...   \n",
       "2         [Fastrack]  [Gradient, UV Protection Wayfarer Sunglasses (...   \n",
       "3         [Fastrack]           [UV Protection Wayfarer Sunglasses (56)]   \n",
       "4         [Fastrack]  [Mirrored, UV Protection Wayfarer Sunglasses (...   \n",
       "..               ...                                                ...   \n",
       "95       [Royal Son]           [UV Protection Wayfarer Sunglasses (55)]   \n",
       "96          [PIRASO]            [UV Protection Aviator Sunglasses (54)]   \n",
       "97          [PIRASO]            [UV Protection Aviator Sunglasses (54)]   \n",
       "98          [Gansta]            [UV Protection Aviator Sunglasses (57)]   \n",
       "99          [Aislin]  [UV Protection, Others Rectangular, Wrap-aroun...   \n",
       "\n",
       "       Price     Discount  \n",
       "0     [₹197]  [[83% off]]  \n",
       "1     [₹284]  [[81% off]]  \n",
       "2     [₹499]  [[37% off]]  \n",
       "3     [₹599]  [[33% off]]  \n",
       "4     [₹549]  [[45% off]]  \n",
       "..       ...          ...  \n",
       "95    [₹242]  [[81% off]]  \n",
       "96    [₹225]  [[85% off]]  \n",
       "97    [₹225]  [[85% off]]  \n",
       "98    [₹284]  [[85% off]]  \n",
       "99  [₹1,096]  [[70% off]]  \n",
       "\n",
       "[100 rows x 4 columns]"
      ]
     },
     "execution_count": 10,
     "metadata": {},
     "output_type": "execute_result"
    }
   ],
   "source": [
    "df.head(100)"
   ]
  },
  {
   "cell_type": "code",
   "execution_count": null,
   "metadata": {},
   "outputs": [],
   "source": []
  },
  {
   "cell_type": "code",
   "execution_count": null,
   "metadata": {},
   "outputs": [],
   "source": []
  }
 ],
 "metadata": {
  "kernelspec": {
   "display_name": "Python 3",
   "language": "python",
   "name": "python3"
  },
  "language_info": {
   "codemirror_mode": {
    "name": "ipython",
    "version": 3
   },
   "file_extension": ".py",
   "mimetype": "text/x-python",
   "name": "python",
   "nbconvert_exporter": "python",
   "pygments_lexer": "ipython3",
   "version": "3.8.5"
  }
 },
 "nbformat": 4,
 "nbformat_minor": 4
}
