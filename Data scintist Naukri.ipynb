{
 "cells": [
  {
   "cell_type": "code",
   "execution_count": 1,
   "metadata": {},
   "outputs": [
    {
     "name": "stdout",
     "output_type": "stream",
     "text": [
      "Collecting selenium"
     ]
    },
    {
     "name": "stderr",
     "output_type": "stream",
     "text": [
      "WARNING: Retrying (Retry(total=4, connect=None, read=None, redirect=None, status=None)) after connection broken by 'NewConnectionError('<pip._vendor.urllib3.connection.HTTPSConnection object at 0x04B2EAF0>: Failed to establish a new connection: [Errno 11001] getaddrinfo failed')': /simple/selenium/\n",
      "WARNING: Retrying (Retry(total=3, connect=None, read=None, redirect=None, status=None)) after connection broken by 'NewConnectionError('<pip._vendor.urllib3.connection.HTTPSConnection object at 0x04B2E868>: Failed to establish a new connection: [Errno 11001] getaddrinfo failed')': /simple/selenium/\n",
      "WARNING: Retrying (Retry(total=2, connect=None, read=None, redirect=None, status=None)) after connection broken by 'NewConnectionError('<pip._vendor.urllib3.connection.HTTPSConnection object at 0x04B2E8F8>: Failed to establish a new connection: [Errno 11001] getaddrinfo failed')': /simple/selenium/\n",
      "WARNING: Retrying (Retry(total=1, connect=None, read=None, redirect=None, status=None)) after connection broken by 'NewConnectionError('<pip._vendor.urllib3.connection.HTTPSConnection object at 0x04B2E7D8>: Failed to establish a new connection: [Errno 11001] getaddrinfo failed')': /simple/selenium/\n"
     ]
    },
    {
     "name": "stdout",
     "output_type": "stream",
     "text": [
      "\n",
      "  Downloading selenium-3.141.0-py2.py3-none-any.whl (904 kB)\n",
      "Requirement already satisfied: urllib3 in g:\\annaconda\\lib\\site-packages (from selenium) (1.25.11)\n",
      "Installing collected packages: selenium\n",
      "Successfully installed selenium-3.141.0\n"
     ]
    }
   ],
   "source": [
    "!pip install selenium"
   ]
  },
  {
   "cell_type": "code",
   "execution_count": 12,
   "metadata": {},
   "outputs": [],
   "source": [
    "from bs4 import BeautifulSoup\n",
    "import requests\n",
    "import time "
   ]
  },
  {
   "cell_type": "code",
   "execution_count": 13,
   "metadata": {},
   "outputs": [],
   "source": [
    "from selenium import webdriver\n",
    "import pandas as pd"
   ]
  },
  {
   "cell_type": "code",
   "execution_count": 14,
   "metadata": {},
   "outputs": [],
   "source": [
    "url=(\"https://www.naukri.com/data-scientist-jobs-in-bangalore?k=data%20scientist&l=bangalore\")"
   ]
  },
  {
   "cell_type": "code",
   "execution_count": 15,
   "metadata": {},
   "outputs": [],
   "source": [
    "driver = webdriver.Chrome('G:\\\\annaconda\\\\ankit\\\\chromedriver.exe')"
   ]
  },
  {
   "cell_type": "code",
   "execution_count": 16,
   "metadata": {},
   "outputs": [],
   "source": [
    "driver.get(url)"
   ]
  },
  {
   "cell_type": "code",
   "execution_count": 17,
   "metadata": {},
   "outputs": [],
   "source": [
    "soup=BeautifulSoup(driver.page_source,\"html.parser\")"
   ]
  },
  {
   "cell_type": "code",
   "execution_count": 24,
   "metadata": {},
   "outputs": [],
   "source": [
    "job=[]\n",
    "Discription=[]\n",
    "Experinces=[]\n",
    "Location=[]\n",
    "salary=[]\n",
    "for d in soup.findAll('article', attrs={'class':'jobTuple bgWhite br4 mb-8'}):\n",
    "        p=d.find('a', attrs={'class':'title fw500 ellipsis'})\n",
    "        job.append(p.text)\n",
    "        pr=d.find('div', attrs={'class':'job-description fs12 grey-text'})\n",
    "        Discription.append(pr.text)\n",
    "        ra=d.find('span', attrs={'class':'ellipsis fleft fs12 lh16'})\n",
    "        Experinces.append(ra.text)\n",
    "        sr=d.find('li', attrs={'class':'fleft grey-text br2 placeHolderLi location'})\n",
    "        Location.append(sr.text)\n",
    "        sl=d.find('li', attrs={'class':'fleft grey-text br2 placeHolderLi salary'})\n",
    "        salary.append(sl.text)\n",
    "                      "
   ]
  },
  {
   "cell_type": "code",
   "execution_count": 25,
   "metadata": {},
   "outputs": [
    {
     "data": {
      "text/plain": [
       "'3,00,000 - 4,25,000 PA.'"
      ]
     },
     "execution_count": 25,
     "metadata": {},
     "output_type": "execute_result"
    }
   ],
   "source": [
    "soup.find('li', attrs={'class':'fleft grey-text br2 placeHolderLi salary'}).text"
   ]
  },
  {
   "cell_type": "code",
   "execution_count": 26,
   "metadata": {},
   "outputs": [],
   "source": [
    "data=list(zip(job,Discription,Experinces,Location,salary))"
   ]
  },
  {
   "cell_type": "code",
   "execution_count": 27,
   "metadata": {},
   "outputs": [],
   "source": [
    "import pandas as pd\n",
    "df=pd.DataFrame(data,columns=[\"Jobs\",\"Discription\",\"Experinces\",\"Location\",\"salary\"])\n"
   ]
  },
  {
   "cell_type": "code",
   "execution_count": 28,
   "metadata": {},
   "outputs": [
    {
     "data": {
      "text/html": [
       "<div>\n",
       "<style scoped>\n",
       "    .dataframe tbody tr th:only-of-type {\n",
       "        vertical-align: middle;\n",
       "    }\n",
       "\n",
       "    .dataframe tbody tr th {\n",
       "        vertical-align: top;\n",
       "    }\n",
       "\n",
       "    .dataframe thead th {\n",
       "        text-align: right;\n",
       "    }\n",
       "</style>\n",
       "<table border=\"1\" class=\"dataframe\">\n",
       "  <thead>\n",
       "    <tr style=\"text-align: right;\">\n",
       "      <th></th>\n",
       "      <th>Jobs</th>\n",
       "      <th>Discription</th>\n",
       "      <th>Experinces</th>\n",
       "      <th>Location</th>\n",
       "      <th>salary</th>\n",
       "    </tr>\n",
       "  </thead>\n",
       "  <tbody>\n",
       "    <tr>\n",
       "      <th>0</th>\n",
       "      <td>Data Scientist/Data Analyst-immediate</td>\n",
       "      <td>In case you are trying to shift your career t...</td>\n",
       "      <td>1-2 Yrs</td>\n",
       "      <td>Chennai, Pune, Bengaluru, Hyderabad</td>\n",
       "      <td>3,00,000 - 4,25,000 PA.</td>\n",
       "    </tr>\n",
       "    <tr>\n",
       "      <th>1</th>\n",
       "      <td>Data Scientist - Python/ MATLAB/ Machine Learn...</td>\n",
       "      <td>BS / MS/PhD in Computer Science, Statistics, ...</td>\n",
       "      <td>3-8 Yrs</td>\n",
       "      <td>Bengaluru</td>\n",
       "      <td>Not disclosed</td>\n",
       "    </tr>\n",
       "    <tr>\n",
       "      <th>2</th>\n",
       "      <td>Lead Data Scientist - Machine Learning/ Data M...</td>\n",
       "      <td>BS/ MS/ PhD in Computer Science, Statistics, ...</td>\n",
       "      <td>6-11 Yrs</td>\n",
       "      <td>Bengaluru</td>\n",
       "      <td>Not disclosed</td>\n",
       "    </tr>\n",
       "    <tr>\n",
       "      <th>3</th>\n",
       "      <td>Data Scientist - Machine Learning (Commerce BU)</td>\n",
       "      <td>Experience working with some of the following...</td>\n",
       "      <td>2-7 Yrs</td>\n",
       "      <td>Bengaluru</td>\n",
       "      <td>Not disclosed</td>\n",
       "    </tr>\n",
       "    <tr>\n",
       "      <th>4</th>\n",
       "      <td>Data Scientist</td>\n",
       "      <td>Working experience in Artificial Intelligence...</td>\n",
       "      <td>12-18 Yrs</td>\n",
       "      <td>Chennai, Pune, Mumbai, Bengaluru</td>\n",
       "      <td>Not disclosed</td>\n",
       "    </tr>\n",
       "    <tr>\n",
       "      <th>5</th>\n",
       "      <td>Opening For Sr. Data Scientist @ Tech Mahindra</td>\n",
       "      <td>BE or MS or PhD degree in Computer Science, A...</td>\n",
       "      <td>12-20 Yrs</td>\n",
       "      <td>Pune, Bengaluru</td>\n",
       "      <td>Not disclosed</td>\n",
       "    </tr>\n",
       "    <tr>\n",
       "      <th>6</th>\n",
       "      <td>Opening For Sr. Data Scientist @ Tech Mahindra</td>\n",
       "      <td>Role Sr. Data ScientistExp. 12 – 20 yearsLoca...</td>\n",
       "      <td>12-20 Yrs</td>\n",
       "      <td>Pune, Bengaluru</td>\n",
       "      <td>Not disclosed</td>\n",
       "    </tr>\n",
       "    <tr>\n",
       "      <th>7</th>\n",
       "      <td>Senior Data Scientist - NLP/ Python/ R</td>\n",
       "      <td>Experience with application development pract...</td>\n",
       "      <td>4-9 Yrs</td>\n",
       "      <td>Bengaluru, Hyderabad</td>\n",
       "      <td>Not disclosed</td>\n",
       "    </tr>\n",
       "    <tr>\n",
       "      <th>8</th>\n",
       "      <td>Senior Data Scientist | CES IT LTD | CMMI Level 5</td>\n",
       "      <td>Logical and Analytical skills must be really ...</td>\n",
       "      <td>2-7 Yrs</td>\n",
       "      <td>Chennai, Pune, Delhi NCR, Mumbai, Bengaluru, H...</td>\n",
       "      <td>7,00,000 - 15,00,000 PA.</td>\n",
       "    </tr>\n",
       "    <tr>\n",
       "      <th>9</th>\n",
       "      <td>Sr Data Scientist</td>\n",
       "      <td>Graduate/ Post GraduateDevelop a strong rappo...</td>\n",
       "      <td>4-9 Yrs</td>\n",
       "      <td>Pune, Mumbai, Bengaluru, Gurgaon, Kolkata</td>\n",
       "      <td>6,00,000 - 16,00,000 PA.</td>\n",
       "    </tr>\n",
       "  </tbody>\n",
       "</table>\n",
       "</div>"
      ],
      "text/plain": [
       "                                                Jobs  \\\n",
       "0              Data Scientist/Data Analyst-immediate   \n",
       "1  Data Scientist - Python/ MATLAB/ Machine Learn...   \n",
       "2  Lead Data Scientist - Machine Learning/ Data M...   \n",
       "3    Data Scientist - Machine Learning (Commerce BU)   \n",
       "4                                     Data Scientist   \n",
       "5     Opening For Sr. Data Scientist @ Tech Mahindra   \n",
       "6     Opening For Sr. Data Scientist @ Tech Mahindra   \n",
       "7             Senior Data Scientist - NLP/ Python/ R   \n",
       "8  Senior Data Scientist | CES IT LTD | CMMI Level 5   \n",
       "9                                  Sr Data Scientist   \n",
       "\n",
       "                                         Discription Experinces  \\\n",
       "0   In case you are trying to shift your career t...    1-2 Yrs   \n",
       "1   BS / MS/PhD in Computer Science, Statistics, ...    3-8 Yrs   \n",
       "2   BS/ MS/ PhD in Computer Science, Statistics, ...   6-11 Yrs   \n",
       "3   Experience working with some of the following...    2-7 Yrs   \n",
       "4   Working experience in Artificial Intelligence...  12-18 Yrs   \n",
       "5   BE or MS or PhD degree in Computer Science, A...  12-20 Yrs   \n",
       "6   Role Sr. Data ScientistExp. 12 – 20 yearsLoca...  12-20 Yrs   \n",
       "7   Experience with application development pract...    4-9 Yrs   \n",
       "8   Logical and Analytical skills must be really ...    2-7 Yrs   \n",
       "9   Graduate/ Post GraduateDevelop a strong rappo...    4-9 Yrs   \n",
       "\n",
       "                                            Location                    salary  \n",
       "0                Chennai, Pune, Bengaluru, Hyderabad   3,00,000 - 4,25,000 PA.  \n",
       "1                                          Bengaluru             Not disclosed  \n",
       "2                                          Bengaluru             Not disclosed  \n",
       "3                                          Bengaluru             Not disclosed  \n",
       "4                   Chennai, Pune, Mumbai, Bengaluru             Not disclosed  \n",
       "5                                    Pune, Bengaluru             Not disclosed  \n",
       "6                                    Pune, Bengaluru             Not disclosed  \n",
       "7                               Bengaluru, Hyderabad             Not disclosed  \n",
       "8  Chennai, Pune, Delhi NCR, Mumbai, Bengaluru, H...  7,00,000 - 15,00,000 PA.  \n",
       "9          Pune, Mumbai, Bengaluru, Gurgaon, Kolkata  6,00,000 - 16,00,000 PA.  "
      ]
     },
     "execution_count": 28,
     "metadata": {},
     "output_type": "execute_result"
    }
   ],
   "source": [
    "df.head(10)"
   ]
  },
  {
   "cell_type": "code",
   "execution_count": 23,
   "metadata": {},
   "outputs": [
    {
     "name": "stdout",
     "output_type": "stream",
     "text": [
      "<class 'pandas.core.frame.DataFrame'>\n",
      "RangeIndex: 20 entries, 0 to 19\n",
      "Data columns (total 5 columns):\n",
      " #   Column       Non-Null Count  Dtype \n",
      "---  ------       --------------  ----- \n",
      " 0   Jobs         20 non-null     object\n",
      " 1   Discription  20 non-null     object\n",
      " 2   Experinces   20 non-null     object\n",
      " 3   Location     20 non-null     object\n",
      " 4   salary       20 non-null     object\n",
      "dtypes: object(5)\n",
      "memory usage: 464.0+ bytes\n"
     ]
    }
   ],
   "source": [
    "df.info()"
   ]
  },
  {
   "cell_type": "code",
   "execution_count": null,
   "metadata": {},
   "outputs": [],
   "source": []
  }
 ],
 "metadata": {
  "kernelspec": {
   "display_name": "Python 3",
   "language": "python",
   "name": "python3"
  },
  "language_info": {
   "codemirror_mode": {
    "name": "ipython",
    "version": 3
   },
   "file_extension": ".py",
   "mimetype": "text/x-python",
   "name": "python",
   "nbconvert_exporter": "python",
   "pygments_lexer": "ipython3",
   "version": "3.8.5"
  }
 },
 "nbformat": 4,
 "nbformat_minor": 4
}
