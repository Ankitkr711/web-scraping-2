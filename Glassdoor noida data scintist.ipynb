{
 "cells": [
  {
   "cell_type": "code",
   "execution_count": 20,
   "metadata": {},
   "outputs": [],
   "source": [
    "from bs4 import BeautifulSoup\n",
    "import requests\n",
    "import time "
   ]
  },
  {
   "cell_type": "code",
   "execution_count": 21,
   "metadata": {},
   "outputs": [],
   "source": [
    "from selenium import webdriver\n",
    "import pandas as pd"
   ]
  },
  {
   "cell_type": "code",
   "execution_count": 22,
   "metadata": {},
   "outputs": [],
   "source": [
    "url=(\"https://www.glassdoor.co.in/Job/noida-data-scientist-jobs-SRCH_IL.0,5_IC4477468_KO6,20.htm\")"
   ]
  },
  {
   "cell_type": "code",
   "execution_count": 23,
   "metadata": {},
   "outputs": [],
   "source": [
    "driver = webdriver.Chrome('G:\\\\annaconda\\\\ankit\\\\chromedriver.exe')"
   ]
  },
  {
   "cell_type": "code",
   "execution_count": 24,
   "metadata": {},
   "outputs": [],
   "source": [
    "driver.get(url)"
   ]
  },
  {
   "cell_type": "code",
   "execution_count": 25,
   "metadata": {},
   "outputs": [],
   "source": [
    "soup=BeautifulSoup(driver.page_source,\"html.parser\")"
   ]
  },
  {
   "cell_type": "code",
   "execution_count": 27,
   "metadata": {},
   "outputs": [],
   "source": [
    "job=[]\n",
    "Company=[]\n",
    "Discription=[]\n",
    "for d in soup.findAll('div', attrs={'class':'d-flex flex-column pl-sm css-1d3xmk8 e1rrn5ka4'}):\n",
    "        p=d.find('a', attrs={'class':'jobLink css-1rd3saf eigr9kq2'})\n",
    "        job.append(p.text)\n",
    "        pr=d.find('div', attrs={'class':'d-flex justify-content-between align-items-start'})\n",
    "        Company.append(pr.text)\n",
    "        ra=d.find('div', attrs={'class':'minor descSnippet css-qb0akw'})\n",
    "        Discription.append(ra.text)\n",
    "                      "
   ]
  },
  {
   "cell_type": "code",
   "execution_count": 28,
   "metadata": {},
   "outputs": [],
   "source": [
    "data=list(zip(job,Company,Discription))"
   ]
  },
  {
   "cell_type": "code",
   "execution_count": 29,
   "metadata": {},
   "outputs": [],
   "source": [
    "import pandas as pd\n",
    "df=pd.DataFrame(data,columns=[\"Jobs\",\"Company\",\"Discription\"])\n"
   ]
  },
  {
   "cell_type": "code",
   "execution_count": 30,
   "metadata": {},
   "outputs": [
    {
     "data": {
      "text/html": [
       "<div>\n",
       "<style scoped>\n",
       "    .dataframe tbody tr th:only-of-type {\n",
       "        vertical-align: middle;\n",
       "    }\n",
       "\n",
       "    .dataframe tbody tr th {\n",
       "        vertical-align: top;\n",
       "    }\n",
       "\n",
       "    .dataframe thead th {\n",
       "        text-align: right;\n",
       "    }\n",
       "</style>\n",
       "<table border=\"1\" class=\"dataframe\">\n",
       "  <thead>\n",
       "    <tr style=\"text-align: right;\">\n",
       "      <th></th>\n",
       "      <th>Jobs</th>\n",
       "      <th>Company</th>\n",
       "      <th>Discription</th>\n",
       "    </tr>\n",
       "  </thead>\n",
       "  <tbody>\n",
       "    <tr>\n",
       "      <th>0</th>\n",
       "      <td>Data Scientist</td>\n",
       "      <td>Bloom AI</td>\n",
       "      <td>Ability to communicate complex data science to...</td>\n",
       "    </tr>\n",
       "    <tr>\n",
       "      <th>1</th>\n",
       "      <td>Data Scientist</td>\n",
       "      <td>Adobe</td>\n",
       "      <td>We need an experienced Data Scientist who can ...</td>\n",
       "    </tr>\n",
       "    <tr>\n",
       "      <th>2</th>\n",
       "      <td>Data Scientist</td>\n",
       "      <td>Biz2Credit Inc</td>\n",
       "      <td>As a Biz2Credit Data Scientist, you will shape...</td>\n",
       "    </tr>\n",
       "    <tr>\n",
       "      <th>3</th>\n",
       "      <td>Data Scientist</td>\n",
       "      <td>Emerging India Group</td>\n",
       "      <td>We are looking for a data scientist with an ex...</td>\n",
       "    </tr>\n",
       "    <tr>\n",
       "      <th>4</th>\n",
       "      <td>Data Scientist</td>\n",
       "      <td>Salasar New Age Technologies</td>\n",
       "      <td>Hiring Data Scientists with 1-3 year of experi...</td>\n",
       "    </tr>\n",
       "    <tr>\n",
       "      <th>5</th>\n",
       "      <td>Data Scientist</td>\n",
       "      <td>WishFin</td>\n",
       "      <td>Integrates advanced analytics into end-to-end ...</td>\n",
       "    </tr>\n",
       "    <tr>\n",
       "      <th>6</th>\n",
       "      <td>Data Scientist</td>\n",
       "      <td>Techlive</td>\n",
       "      <td>Co-relationship models ARIMA Exponential Movin...</td>\n",
       "    </tr>\n",
       "    <tr>\n",
       "      <th>7</th>\n",
       "      <td>Data Scientist Intern</td>\n",
       "      <td>Salasar New Age Technologies</td>\n",
       "      <td>Hiring interns with a tremendous desire to lea...</td>\n",
       "    </tr>\n",
       "    <tr>\n",
       "      <th>8</th>\n",
       "      <td>Data Scientist 2</td>\n",
       "      <td>Microsoft</td>\n",
       "      <td>Do you like working with big data for one of t...</td>\n",
       "    </tr>\n",
       "    <tr>\n",
       "      <th>9</th>\n",
       "      <td>Data Scientist</td>\n",
       "      <td>Mahindra Comviva</td>\n",
       "      <td>With 55 awards in three years, near monopoly i...</td>\n",
       "    </tr>\n",
       "  </tbody>\n",
       "</table>\n",
       "</div>"
      ],
      "text/plain": [
       "                    Jobs                       Company  \\\n",
       "0         Data Scientist                      Bloom AI   \n",
       "1         Data Scientist                         Adobe   \n",
       "2         Data Scientist                Biz2Credit Inc   \n",
       "3         Data Scientist          Emerging India Group   \n",
       "4         Data Scientist  Salasar New Age Technologies   \n",
       "5         Data Scientist                       WishFin   \n",
       "6         Data Scientist                      Techlive   \n",
       "7  Data Scientist Intern  Salasar New Age Technologies   \n",
       "8       Data Scientist 2                     Microsoft   \n",
       "9         Data Scientist              Mahindra Comviva   \n",
       "\n",
       "                                         Discription  \n",
       "0  Ability to communicate complex data science to...  \n",
       "1  We need an experienced Data Scientist who can ...  \n",
       "2  As a Biz2Credit Data Scientist, you will shape...  \n",
       "3  We are looking for a data scientist with an ex...  \n",
       "4  Hiring Data Scientists with 1-3 year of experi...  \n",
       "5  Integrates advanced analytics into end-to-end ...  \n",
       "6  Co-relationship models ARIMA Exponential Movin...  \n",
       "7  Hiring interns with a tremendous desire to lea...  \n",
       "8  Do you like working with big data for one of t...  \n",
       "9  With 55 awards in three years, near monopoly i...  "
      ]
     },
     "execution_count": 30,
     "metadata": {},
     "output_type": "execute_result"
    }
   ],
   "source": [
    "df.head(10)"
   ]
  },
  {
   "cell_type": "code",
   "execution_count": null,
   "metadata": {},
   "outputs": [],
   "source": []
  }
 ],
 "metadata": {
  "kernelspec": {
   "display_name": "Python 3",
   "language": "python",
   "name": "python3"
  },
  "language_info": {
   "codemirror_mode": {
    "name": "ipython",
    "version": 3
   },
   "file_extension": ".py",
   "mimetype": "text/x-python",
   "name": "python",
   "nbconvert_exporter": "python",
   "pygments_lexer": "ipython3",
   "version": "3.8.5"
  }
 },
 "nbformat": 4,
 "nbformat_minor": 4
}
