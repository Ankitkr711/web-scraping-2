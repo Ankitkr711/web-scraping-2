{
 "cells": [
  {
   "cell_type": "code",
   "execution_count": 1,
   "metadata": {},
   "outputs": [
    {
     "name": "stdout",
     "output_type": "stream",
     "text": [
      "Collecting selenium"
     ]
    },
    {
     "name": "stderr",
     "output_type": "stream",
     "text": [
      "WARNING: Retrying (Retry(total=4, connect=None, read=None, redirect=None, status=None)) after connection broken by 'NewConnectionError('<pip._vendor.urllib3.connection.HTTPSConnection object at 0x04B2EAF0>: Failed to establish a new connection: [Errno 11001] getaddrinfo failed')': /simple/selenium/\n",
      "WARNING: Retrying (Retry(total=3, connect=None, read=None, redirect=None, status=None)) after connection broken by 'NewConnectionError('<pip._vendor.urllib3.connection.HTTPSConnection object at 0x04B2E868>: Failed to establish a new connection: [Errno 11001] getaddrinfo failed')': /simple/selenium/\n",
      "WARNING: Retrying (Retry(total=2, connect=None, read=None, redirect=None, status=None)) after connection broken by 'NewConnectionError('<pip._vendor.urllib3.connection.HTTPSConnection object at 0x04B2E8F8>: Failed to establish a new connection: [Errno 11001] getaddrinfo failed')': /simple/selenium/\n",
      "WARNING: Retrying (Retry(total=1, connect=None, read=None, redirect=None, status=None)) after connection broken by 'NewConnectionError('<pip._vendor.urllib3.connection.HTTPSConnection object at 0x04B2E7D8>: Failed to establish a new connection: [Errno 11001] getaddrinfo failed')': /simple/selenium/\n"
     ]
    },
    {
     "name": "stdout",
     "output_type": "stream",
     "text": [
      "\n",
      "  Downloading selenium-3.141.0-py2.py3-none-any.whl (904 kB)\n",
      "Requirement already satisfied: urllib3 in g:\\annaconda\\lib\\site-packages (from selenium) (1.25.11)\n",
      "Installing collected packages: selenium\n",
      "Successfully installed selenium-3.141.0\n"
     ]
    }
   ],
   "source": [
    "!pip install selenium"
   ]
  },
  {
   "cell_type": "code",
   "execution_count": 2,
   "metadata": {},
   "outputs": [],
   "source": [
    "from bs4 import BeautifulSoup\n",
    "import requests\n",
    "import time "
   ]
  },
  {
   "cell_type": "code",
   "execution_count": 3,
   "metadata": {},
   "outputs": [],
   "source": [
    "from selenium import webdriver\n",
    "import pandas as pd"
   ]
  },
  {
   "cell_type": "code",
   "execution_count": 4,
   "metadata": {},
   "outputs": [],
   "source": [
    "url=(\"https://www.naukri.com/data-analyst-jobs-in-bangalore?k=data%2C%20data%20analyst&l=bangalore\")"
   ]
  },
  {
   "cell_type": "code",
   "execution_count": 5,
   "metadata": {},
   "outputs": [],
   "source": [
    "driver = webdriver.Chrome('G:\\\\annaconda\\\\ankit\\\\chromedriver.exe')"
   ]
  },
  {
   "cell_type": "code",
   "execution_count": 6,
   "metadata": {},
   "outputs": [],
   "source": [
    "driver.get(url)"
   ]
  },
  {
   "cell_type": "code",
   "execution_count": 7,
   "metadata": {},
   "outputs": [],
   "source": [
    "soup=BeautifulSoup(driver.page_source,\"html.parser\")"
   ]
  },
  {
   "cell_type": "code",
   "execution_count": 12,
   "metadata": {},
   "outputs": [],
   "source": [
    "job=[]\n",
    "Discription=[]\n",
    "Experinces=[]\n",
    "Location=[]\n",
    "salary=[]\n",
    "for d in soup.findAll('article', attrs={'class':'jobTuple bgWhite br4 mb-8'}):\n",
    "        p=d.find('a', attrs={'class':'title fw500 ellipsis'})\n",
    "        job.append(p.text)\n",
    "        pr=d.find('div', attrs={'class':'job-description fs12 grey-text'})\n",
    "        Discription.append(pr.text)\n",
    "        ra=d.find('span', attrs={'class':'ellipsis fleft fs12 lh16'})\n",
    "        Experinces.append(ra.text)\n",
    "        sr=d.find('li', attrs={'class':'fleft grey-text br2 placeHolderLi location'})\n",
    "        Location.append(sr.text)\n",
    "        sl=d.find('li', attrs={'class':'fleft grey-text br2 placeHolderLi salary'})\n",
    "        salary.append(sl.text)\n",
    "                      "
   ]
  },
  {
   "cell_type": "code",
   "execution_count": 13,
   "metadata": {},
   "outputs": [],
   "source": [
    "data=list(zip(job,Discription,Experinces,Location,salary))"
   ]
  },
  {
   "cell_type": "code",
   "execution_count": 14,
   "metadata": {},
   "outputs": [],
   "source": [
    "import pandas as pd\n",
    "df=pd.DataFrame(data,columns=[\"Jobs\",\"Discription\",\"Experinces\",\"Location\",\"salary\"])\n",
    "\n"
   ]
  },
  {
   "cell_type": "code",
   "execution_count": 15,
   "metadata": {},
   "outputs": [
    {
     "data": {
      "text/html": [
       "<div>\n",
       "<style scoped>\n",
       "    .dataframe tbody tr th:only-of-type {\n",
       "        vertical-align: middle;\n",
       "    }\n",
       "\n",
       "    .dataframe tbody tr th {\n",
       "        vertical-align: top;\n",
       "    }\n",
       "\n",
       "    .dataframe thead th {\n",
       "        text-align: right;\n",
       "    }\n",
       "</style>\n",
       "<table border=\"1\" class=\"dataframe\">\n",
       "  <thead>\n",
       "    <tr style=\"text-align: right;\">\n",
       "      <th></th>\n",
       "      <th>Jobs</th>\n",
       "      <th>Discription</th>\n",
       "      <th>Experinces</th>\n",
       "      <th>Location</th>\n",
       "      <th>salary</th>\n",
       "    </tr>\n",
       "  </thead>\n",
       "  <tbody>\n",
       "    <tr>\n",
       "      <th>0</th>\n",
       "      <td>Data Modeler Analyst</td>\n",
       "      <td>Urgent Requirement for Data Modeler AnalystEx...</td>\n",
       "      <td>6-8 Yrs</td>\n",
       "      <td>Bengaluru, Hyderabad</td>\n",
       "      <td>Not disclosed</td>\n",
       "    </tr>\n",
       "    <tr>\n",
       "      <th>1</th>\n",
       "      <td>Data Analyst</td>\n",
       "      <td>Bachelor s degree in Management of Informatio...</td>\n",
       "      <td>3-6 Yrs</td>\n",
       "      <td>Bengaluru(2nd Phase JP Nagar)</td>\n",
       "      <td>6,00,000 - 10,00,000 PA.</td>\n",
       "    </tr>\n",
       "    <tr>\n",
       "      <th>2</th>\n",
       "      <td>Data Analyst</td>\n",
       "      <td>The candidate should be able to apply busines...</td>\n",
       "      <td>8-9 Yrs</td>\n",
       "      <td>Bengaluru</td>\n",
       "      <td>Not disclosed</td>\n",
       "    </tr>\n",
       "    <tr>\n",
       "      <th>3</th>\n",
       "      <td>Data Analyst</td>\n",
       "      <td>The role is a mixture of Business and Data An...</td>\n",
       "      <td>3-8 Yrs</td>\n",
       "      <td>Bengaluru</td>\n",
       "      <td>Not disclosed</td>\n",
       "    </tr>\n",
       "    <tr>\n",
       "      <th>4</th>\n",
       "      <td>Looking For Rockstar Data Analyst @ Freshtohom...</td>\n",
       "      <td>What we are looking for : Strong problem solv...</td>\n",
       "      <td>2-5 Yrs</td>\n",
       "      <td>Bengaluru</td>\n",
       "      <td>Not disclosed</td>\n",
       "    </tr>\n",
       "    <tr>\n",
       "      <th>5</th>\n",
       "      <td>Hiring Data Analysts on Contract</td>\n",
       "      <td>Hiring Data Analyst profile on the third-part...</td>\n",
       "      <td>2-5 Yrs</td>\n",
       "      <td>Bengaluru</td>\n",
       "      <td>3,00,000 - 6,00,000 PA.</td>\n",
       "    </tr>\n",
       "    <tr>\n",
       "      <th>6</th>\n",
       "      <td>Senior Data Analyst</td>\n",
       "      <td>Roles and Responsibilities Description - Exte...</td>\n",
       "      <td>2-5 Yrs</td>\n",
       "      <td>Bengaluru / Bangalore</td>\n",
       "      <td>Not disclosed</td>\n",
       "    </tr>\n",
       "    <tr>\n",
       "      <th>7</th>\n",
       "      <td>Senior Data Analyst</td>\n",
       "      <td>Roles and ResponsibilitiesSenior Data Analyst...</td>\n",
       "      <td>3-5 Yrs</td>\n",
       "      <td>Bengaluru</td>\n",
       "      <td>Not disclosed</td>\n",
       "    </tr>\n",
       "    <tr>\n",
       "      <th>8</th>\n",
       "      <td>Data Analyst</td>\n",
       "      <td>The role is a mixture of Business and Data An...</td>\n",
       "      <td>3-8 Yrs</td>\n",
       "      <td>Bengaluru</td>\n",
       "      <td>Not disclosed</td>\n",
       "    </tr>\n",
       "    <tr>\n",
       "      <th>9</th>\n",
       "      <td>Data Analyst\\n</td>\n",
       "      <td>Knowledge of statistics and experience using ...</td>\n",
       "      <td>3-5 Yrs</td>\n",
       "      <td>Bengaluru</td>\n",
       "      <td>4,00,000 - 7,00,000 PA.</td>\n",
       "    </tr>\n",
       "  </tbody>\n",
       "</table>\n",
       "</div>"
      ],
      "text/plain": [
       "                                                Jobs  \\\n",
       "0                               Data Modeler Analyst   \n",
       "1                                       Data Analyst   \n",
       "2                                       Data Analyst   \n",
       "3                                       Data Analyst   \n",
       "4  Looking For Rockstar Data Analyst @ Freshtohom...   \n",
       "5                   Hiring Data Analysts on Contract   \n",
       "6                                Senior Data Analyst   \n",
       "7                                Senior Data Analyst   \n",
       "8                                       Data Analyst   \n",
       "9                                     Data Analyst\\n   \n",
       "\n",
       "                                         Discription Experinces  \\\n",
       "0   Urgent Requirement for Data Modeler AnalystEx...    6-8 Yrs   \n",
       "1   Bachelor s degree in Management of Informatio...    3-6 Yrs   \n",
       "2   The candidate should be able to apply busines...    8-9 Yrs   \n",
       "3   The role is a mixture of Business and Data An...    3-8 Yrs   \n",
       "4   What we are looking for : Strong problem solv...    2-5 Yrs   \n",
       "5   Hiring Data Analyst profile on the third-part...    2-5 Yrs   \n",
       "6   Roles and Responsibilities Description - Exte...    2-5 Yrs   \n",
       "7   Roles and ResponsibilitiesSenior Data Analyst...    3-5 Yrs   \n",
       "8   The role is a mixture of Business and Data An...    3-8 Yrs   \n",
       "9   Knowledge of statistics and experience using ...    3-5 Yrs   \n",
       "\n",
       "                        Location                    salary  \n",
       "0           Bengaluru, Hyderabad             Not disclosed  \n",
       "1  Bengaluru(2nd Phase JP Nagar)  6,00,000 - 10,00,000 PA.  \n",
       "2                      Bengaluru             Not disclosed  \n",
       "3                      Bengaluru             Not disclosed  \n",
       "4                      Bengaluru             Not disclosed  \n",
       "5                      Bengaluru   3,00,000 - 6,00,000 PA.  \n",
       "6          Bengaluru / Bangalore             Not disclosed  \n",
       "7                      Bengaluru             Not disclosed  \n",
       "8                      Bengaluru             Not disclosed  \n",
       "9                      Bengaluru   4,00,000 - 7,00,000 PA.  "
      ]
     },
     "execution_count": 15,
     "metadata": {},
     "output_type": "execute_result"
    }
   ],
   "source": [
    "df.head(10)"
   ]
  },
  {
   "cell_type": "code",
   "execution_count": null,
   "metadata": {},
   "outputs": [],
   "source": []
  }
 ],
 "metadata": {
  "kernelspec": {
   "display_name": "Python 3",
   "language": "python",
   "name": "python3"
  },
  "language_info": {
   "codemirror_mode": {
    "name": "ipython",
    "version": 3
   },
   "file_extension": ".py",
   "mimetype": "text/x-python",
   "name": "python",
   "nbconvert_exporter": "python",
   "pygments_lexer": "ipython3",
   "version": "3.8.5"
  }
 },
 "nbformat": 4,
 "nbformat_minor": 4
}
