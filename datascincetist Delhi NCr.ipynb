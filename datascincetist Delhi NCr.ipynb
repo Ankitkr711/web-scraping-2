{
 "cells": [
  {
   "cell_type": "code",
   "execution_count": 1,
   "metadata": {},
   "outputs": [],
   "source": [
    "from bs4 import BeautifulSoup\n",
    "import requests\n",
    "import time "
   ]
  },
  {
   "cell_type": "code",
   "execution_count": 2,
   "metadata": {},
   "outputs": [],
   "source": [
    "from selenium import webdriver\n",
    "import pandas as pd"
   ]
  },
  {
   "cell_type": "code",
   "execution_count": 7,
   "metadata": {},
   "outputs": [],
   "source": [
    "url=(\"https://www.naukri.com/data-scientist-jobs-in-delhi-ncr?k=data%20scientist&l=delhi%2Fncr&ctcFilter=3to6\")"
   ]
  },
  {
   "cell_type": "code",
   "execution_count": 8,
   "metadata": {},
   "outputs": [],
   "source": [
    "driver = webdriver.Chrome('G:\\\\annaconda\\\\ankit\\\\chromedriver.exe')"
   ]
  },
  {
   "cell_type": "code",
   "execution_count": 9,
   "metadata": {},
   "outputs": [],
   "source": [
    "driver.get(url)"
   ]
  },
  {
   "cell_type": "code",
   "execution_count": 10,
   "metadata": {},
   "outputs": [],
   "source": [
    "soup=BeautifulSoup(driver.page_source,\"html.parser\")"
   ]
  },
  {
   "cell_type": "code",
   "execution_count": 11,
   "metadata": {},
   "outputs": [],
   "source": [
    "job=[]\n",
    "Discription=[]\n",
    "Experinces=[]\n",
    "Location=[]\n",
    "salary=[]\n",
    "for d in soup.findAll('article', attrs={'class':'jobTuple bgWhite br4 mb-8'}):\n",
    "        p=d.find('a', attrs={'class':'title fw500 ellipsis'})\n",
    "        job.append(p.text)\n",
    "        pr=d.find('div', attrs={'class':'job-description fs12 grey-text'})\n",
    "        Discription.append(pr.text)\n",
    "        ra=d.find('span', attrs={'class':'ellipsis fleft fs12 lh16'})\n",
    "        Experinces.append(ra.text)\n",
    "        sr=d.find('li', attrs={'class':'fleft grey-text br2 placeHolderLi location'})\n",
    "        Location.append(sr.text)\n",
    "        sl=d.find('li', attrs={'class':'fleft grey-text br2 placeHolderLi salary'})\n",
    "        salary.append(sl.text)\n",
    "                      "
   ]
  },
  {
   "cell_type": "code",
   "execution_count": 12,
   "metadata": {},
   "outputs": [],
   "source": [
    "data=list(zip(job,Discription,Experinces,Location,salary))"
   ]
  },
  {
   "cell_type": "code",
   "execution_count": 13,
   "metadata": {},
   "outputs": [],
   "source": [
    "import pandas as pd\n",
    "df=pd.DataFrame(data,columns=[\"Jobs\",\"Discription\",\"Experinces\",\"Location\",\"salary\"])\n"
   ]
  },
  {
   "cell_type": "code",
   "execution_count": 14,
   "metadata": {},
   "outputs": [
    {
     "data": {
      "text/html": [
       "<div>\n",
       "<style scoped>\n",
       "    .dataframe tbody tr th:only-of-type {\n",
       "        vertical-align: middle;\n",
       "    }\n",
       "\n",
       "    .dataframe tbody tr th {\n",
       "        vertical-align: top;\n",
       "    }\n",
       "\n",
       "    .dataframe thead th {\n",
       "        text-align: right;\n",
       "    }\n",
       "</style>\n",
       "<table border=\"1\" class=\"dataframe\">\n",
       "  <thead>\n",
       "    <tr style=\"text-align: right;\">\n",
       "      <th></th>\n",
       "      <th>Jobs</th>\n",
       "      <th>Discription</th>\n",
       "      <th>Experinces</th>\n",
       "      <th>Location</th>\n",
       "      <th>salary</th>\n",
       "    </tr>\n",
       "  </thead>\n",
       "  <tbody>\n",
       "    <tr>\n",
       "      <th>0</th>\n",
       "      <td>Data Scientist</td>\n",
       "      <td>Should have hired and nurtured talent and gro...</td>\n",
       "      <td>4-8 Yrs</td>\n",
       "      <td>Gurgaon Gurugram</td>\n",
       "      <td>Not disclosed</td>\n",
       "    </tr>\n",
       "    <tr>\n",
       "      <th>1</th>\n",
       "      <td>Only Fresher / Data Scientist /  Data Analyst ...</td>\n",
       "      <td>Only Fresher Can Apply: Description 1&gt;MS Offi...</td>\n",
       "      <td>0-0 Yrs</td>\n",
       "      <td>Delhi NCR, Noida, Gurgaon</td>\n",
       "      <td>2,25,000 - 4,75,000 PA.</td>\n",
       "    </tr>\n",
       "    <tr>\n",
       "      <th>2</th>\n",
       "      <td>Data Scientist</td>\n",
       "      <td>Roles and ResponsibilitiesDIMENSION &amp; SCOPETh...</td>\n",
       "      <td>5-6 Yrs</td>\n",
       "      <td>Gurgaon Gurugram</td>\n",
       "      <td>Not disclosed</td>\n",
       "    </tr>\n",
       "    <tr>\n",
       "      <th>3</th>\n",
       "      <td>Data Scientist</td>\n",
       "      <td>Bachelor degree Experience with common data s...</td>\n",
       "      <td>1-3 Yrs</td>\n",
       "      <td>Ghaziabad, Bhopal, Lucknow, Kanpur, Rajkot, Be...</td>\n",
       "      <td>Not disclosed</td>\n",
       "    </tr>\n",
       "    <tr>\n",
       "      <th>4</th>\n",
       "      <td>Data Scientist Machine Learning</td>\n",
       "      <td>Data Scientist Machine Learning Apply Descrip...</td>\n",
       "      <td>1-3 Yrs</td>\n",
       "      <td>Gurgaon</td>\n",
       "      <td>Not disclosed</td>\n",
       "    </tr>\n",
       "    <tr>\n",
       "      <th>5</th>\n",
       "      <td>Business Analyst - Data Scientist</td>\n",
       "      <td>BTech/ MCA/ MBA (IT) / M Sc (IT) / M Sc Maths...</td>\n",
       "      <td>3-5 Yrs</td>\n",
       "      <td>Gurgaon</td>\n",
       "      <td>Not disclosed</td>\n",
       "    </tr>\n",
       "    <tr>\n",
       "      <th>6</th>\n",
       "      <td>Analyst - Data Scientist</td>\n",
       "      <td>BTech/ MCA/ MBA (IT) / M Sc (IT) / M Sc Maths...</td>\n",
       "      <td>1-3 Yrs</td>\n",
       "      <td>Gurgaon</td>\n",
       "      <td>Not disclosed</td>\n",
       "    </tr>\n",
       "    <tr>\n",
       "      <th>7</th>\n",
       "      <td>Data Scientist</td>\n",
       "      <td>Bachelors / Masters in Mathematics / Computer...</td>\n",
       "      <td>6-8 Yrs</td>\n",
       "      <td>Faridabad, Delhi NCR, Ghaziabad</td>\n",
       "      <td>5,00,000 - 8,00,000 PA.</td>\n",
       "    </tr>\n",
       "    <tr>\n",
       "      <th>8</th>\n",
       "      <td>Data Scientist</td>\n",
       "      <td>Some of the problem areas are Insights across...</td>\n",
       "      <td>3-7 Yrs</td>\n",
       "      <td>Bengaluru, Gurgaon</td>\n",
       "      <td>Not disclosed</td>\n",
       "    </tr>\n",
       "    <tr>\n",
       "      <th>9</th>\n",
       "      <td>Senior Data Scientist</td>\n",
       "      <td>Senior Data Scientist We are inviting applica...</td>\n",
       "      <td>1-5 Yrs</td>\n",
       "      <td>Delhi</td>\n",
       "      <td>Not disclosed</td>\n",
       "    </tr>\n",
       "  </tbody>\n",
       "</table>\n",
       "</div>"
      ],
      "text/plain": [
       "                                                Jobs  \\\n",
       "0                                     Data Scientist   \n",
       "1  Only Fresher / Data Scientist /  Data Analyst ...   \n",
       "2                                     Data Scientist   \n",
       "3                                     Data Scientist   \n",
       "4                    Data Scientist Machine Learning   \n",
       "5                  Business Analyst - Data Scientist   \n",
       "6                           Analyst - Data Scientist   \n",
       "7                                     Data Scientist   \n",
       "8                                     Data Scientist   \n",
       "9                              Senior Data Scientist   \n",
       "\n",
       "                                         Discription Experinces  \\\n",
       "0   Should have hired and nurtured talent and gro...    4-8 Yrs   \n",
       "1   Only Fresher Can Apply: Description 1>MS Offi...    0-0 Yrs   \n",
       "2   Roles and ResponsibilitiesDIMENSION & SCOPETh...    5-6 Yrs   \n",
       "3   Bachelor degree Experience with common data s...    1-3 Yrs   \n",
       "4   Data Scientist Machine Learning Apply Descrip...    1-3 Yrs   \n",
       "5   BTech/ MCA/ MBA (IT) / M Sc (IT) / M Sc Maths...    3-5 Yrs   \n",
       "6   BTech/ MCA/ MBA (IT) / M Sc (IT) / M Sc Maths...    1-3 Yrs   \n",
       "7   Bachelors / Masters in Mathematics / Computer...    6-8 Yrs   \n",
       "8   Some of the problem areas are Insights across...    3-7 Yrs   \n",
       "9   Senior Data Scientist We are inviting applica...    1-5 Yrs   \n",
       "\n",
       "                                            Location                   salary  \n",
       "0                                   Gurgaon Gurugram            Not disclosed  \n",
       "1                          Delhi NCR, Noida, Gurgaon  2,25,000 - 4,75,000 PA.  \n",
       "2                                   Gurgaon Gurugram            Not disclosed  \n",
       "3  Ghaziabad, Bhopal, Lucknow, Kanpur, Rajkot, Be...            Not disclosed  \n",
       "4                                            Gurgaon            Not disclosed  \n",
       "5                                            Gurgaon            Not disclosed  \n",
       "6                                            Gurgaon            Not disclosed  \n",
       "7                    Faridabad, Delhi NCR, Ghaziabad  5,00,000 - 8,00,000 PA.  \n",
       "8                                 Bengaluru, Gurgaon            Not disclosed  \n",
       "9                                              Delhi            Not disclosed  "
      ]
     },
     "execution_count": 14,
     "metadata": {},
     "output_type": "execute_result"
    }
   ],
   "source": [
    "df.head(10)"
   ]
  },
  {
   "cell_type": "code",
   "execution_count": null,
   "metadata": {},
   "outputs": [],
   "source": []
  },
  {
   "cell_type": "code",
   "execution_count": null,
   "metadata": {},
   "outputs": [],
   "source": []
  }
 ],
 "metadata": {
  "kernelspec": {
   "display_name": "Python 3",
   "language": "python",
   "name": "python3"
  },
  "language_info": {
   "codemirror_mode": {
    "name": "ipython",
    "version": 3
   },
   "file_extension": ".py",
   "mimetype": "text/x-python",
   "name": "python",
   "nbconvert_exporter": "python",
   "pygments_lexer": "ipython3",
   "version": "3.8.5"
  }
 },
 "nbformat": 4,
 "nbformat_minor": 4
}
